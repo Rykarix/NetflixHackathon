{
 "cells": [
  {
   "cell_type": "code",
   "execution_count": null,
   "metadata": {},
   "outputs": [],
   "source": [
    "import pandas as pd\n",
    "import numpy as np\n",
    "from os.path import exists"
   ]
  },
  {
   "attachments": {},
   "cell_type": "markdown",
   "metadata": {},
   "source": [
    "# IMDB DATA\n",
    "DOWNLOAD: https://datasets.imdbws.com\n",
    "\n",
    "DETAILS:  https://www.imdb.com/interfaces/\n"
   ]
  },
  {
   "attachments": {},
   "cell_type": "markdown",
   "metadata": {},
   "source": [
    "## Analyzing each of the **individual** TSV files"
   ]
  },
  {
   "attachments": {},
   "cell_type": "markdown",
   "metadata": {},
   "source": [
    "### title.akas.tsv.gz - Contains the following information for titles:\n",
    "\n",
    "- titleId (string) - a tconst, an alphanumeric unique identifier of the title\n",
    "- ordering (integer) – a number to uniquely identify rows for a given titleId\n",
    "- title (string) – the localized title\n",
    "- region (string) - the region for this version of the title\n",
    "- language (string) - the language of the title\n",
    "- types (array) - Enumerated set of attributes for this alternative title. One or more of the following: \"alternative\", \"dvd\", \"festival\", \"tv\", \"video\", \"working\", \"original\", \"imdbDisplay\". New values may be added in the future without warning\n",
    "- attributes (array) - Additional terms to describe this alternative title, not enumerated\n",
    "- isOriginalTitle (boolean) – 0: not original title; 1: original title"
   ]
  },
  {
   "cell_type": "code",
   "execution_count": null,
   "metadata": {},
   "outputs": [],
   "source": [
    "# IGNORED DUE TO LACK OF USEFULLNESS\n",
    "\n",
    "# try:\n",
    "#         title_akas = pd.read_feather('data/title_akas.feather')\n",
    "# except:\n",
    "#         title_akas = pd.read_csv(\n",
    "#                 \"data/title_akas.tsv\",\n",
    "#                 sep=\"\\t\",\n",
    "#                 usecols=[\n",
    "#                 \"titleId\",\n",
    "#                 \"title\",\n",
    "#                 \"region\",\n",
    "#                 \"language\",\n",
    "#                 \"types\",\n",
    "#                 \"attributes\",\n",
    "#                 ],\n",
    "#                 dtype={\n",
    "#                         \"titleId\": \"string\",\n",
    "#                         \"title\": \"string\",\n",
    "#                         \"region\": \"string\",\n",
    "#                         \"language\": \"string\",\n",
    "#                         \"types\": \"category\",\n",
    "#                         \"attributes\": \"category\",\n",
    "#                 },\n",
    "#                 )"
   ]
  },
  {
   "cell_type": "code",
   "execution_count": null,
   "metadata": {},
   "outputs": [],
   "source": [
    "# IGNORED DUE TO LACK OF USEFULLNESS\n",
    "\n",
    "# # CLEANING SECTION\n",
    "# if not exists(\"data/title_akas.feather\"):\n",
    "#     cleaned_title_akas = title_akas.copy()\n",
    "# else:\n",
    "#     pass"
   ]
  },
  {
   "cell_type": "code",
   "execution_count": null,
   "metadata": {},
   "outputs": [],
   "source": [
    "# # IGNORED DUE TO LACK OF USEFULLNESS\n",
    "\n",
    "# # SAVING SECTION\n",
    "# if not exists(\"data/title_akas.feather\"):\n",
    "#     # Clean up indexing for .feather file\n",
    "#     cleaned_title_akas.reset_index(inplace=True, drop=True)\n",
    "#     # Replace '\\N' with proper NaN\n",
    "#     cleaned_title_akas.replace('\\\\N', np.NaN, inplace=True)\n",
    "#     # Save to Feather\n",
    "#     cleaned_title_akas.to_feather(\"data/title_akas.feather\")\n",
    "# else:\n",
    "#     pass"
   ]
  },
  {
   "attachments": {},
   "cell_type": "markdown",
   "metadata": {},
   "source": [
    "### title.basics.tsv.gz - Contains the following information for titles:\n",
    "- tconst (string) - alphanumeric unique identifier of the title\n",
    "- titleType (string) – the type/format of the title (e.g. movie, short, tvseries, tvepisode, video, etc)\n",
    "- primaryTitle (string) – the more popular title / the title used by the filmmakers on promotional materials at the point of release\n",
    "- originalTitle (string) - original title, in the original language\n",
    "- isAdult (boolean) - 0: non-adult title; 1: adult title\n",
    "- startYear (YYYY) – represents the release year of a title. In the case of TV Series, it is the series start year\n",
    "- endYear (YYYY) – TV Series end year. ‘\\N’ for all other title types\n",
    "- runtimeMinutes – primary runtime of the title, in minutes\n",
    "- genres (string array) – includes up to three genres associated with the title"
   ]
  },
  {
   "cell_type": "code",
   "execution_count": null,
   "metadata": {},
   "outputs": [],
   "source": [
    "try:\n",
    "        title_basics = pd.read_feather(\"data/title_basics.feather\")\n",
    "except:\n",
    "        title_basics = pd.read_csv(\n",
    "                \"data/title_basics.tsv\",\n",
    "                sep=\"\\t\",\n",
    "                usecols=[\n",
    "                \"tconst\",\n",
    "                \"titleType\",\n",
    "                \"primaryTitle\",\n",
    "                \"originalTitle\",\n",
    "                \"startYear\",\n",
    "                \"runtimeMinutes\",\n",
    "                \"genres\",\n",
    "                ],\n",
    "                dtype={\n",
    "                        \"tconst\": \"string\",\n",
    "                        \"titleType\": \"string\",\n",
    "                        \"primaryTitle\": \"string\",\n",
    "                        \"originalTitle\": \"string\",\n",
    "                        # \"startYear\": \"Int16\",\n",
    "                        # \"runtimeMinutes\": \"Int16\",\n",
    "                        \"genres\": \"category\",\n",
    "                },\n",
    "                # parse_dates=[\"startYear\"],\n",
    "                # date_parser=lambda x: pd.to_datetime(x, format=\"%Y\"), # See https://docs.python.org/3/library/datetime.html#strftime-and-strptime-behavior\n",
    "                )"
   ]
  },
  {
   "cell_type": "code",
   "execution_count": null,
   "metadata": {},
   "outputs": [],
   "source": [
    "# CLEANING SECTION\n",
    "if not exists(\"data/title_basics.feather\"):\n",
    "    cleaned_title_basics = title_basics.copy()\n",
    "else:\n",
    "    pass\n"
   ]
  },
  {
   "cell_type": "code",
   "execution_count": null,
   "metadata": {},
   "outputs": [],
   "source": [
    "if not exists(\"data/title_basics.feather\"):\n",
    "    # Clean up indexing for .feather file\n",
    "    cleaned_title_basics.reset_index(inplace=True, drop=True)\n",
    "    # Replace '\\N' with proper NaN\n",
    "    cleaned_title_basics.replace('\\\\N', np.NaN, inplace=True)\n",
    "    # Save to Feather\n",
    "    cleaned_title_basics.to_feather(\"data/title_basics.feather\")\n",
    "else:\n",
    "    pass"
   ]
  },
  {
   "attachments": {},
   "cell_type": "markdown",
   "metadata": {},
   "source": [
    "### title.principals.tsv\n",
    "- tconst (string) - alphanumeric unique identifier of the title\n",
    "- ordering (integer) – a number to uniquely identify rows for a given titleId\n",
    "- nconst (string) - alphanumeric unique identifier of the name/person\n",
    "- category (string) - the category of job that person was in\n",
    "- job (string) - the specific job title if applicable, else '\\N'\n",
    "- characters (string) - the name of the character played if applicable, else '\\N'"
   ]
  },
  {
   "cell_type": "code",
   "execution_count": null,
   "metadata": {},
   "outputs": [],
   "source": [
    "try:\n",
    "    title_principals = pd.read_feather(\"data/title_principals.feather\")\n",
    "except:\n",
    "    title_principals = pd.read_csv(\n",
    "            \"data/title_principals.tsv\",\n",
    "            sep=\"\\t\",\n",
    "            usecols=[\n",
    "                \"tconst\",\n",
    "                \"nconst\",\n",
    "                \"category\",\n",
    "                \"characters\",\n",
    "            ],\n",
    "            dtype={\n",
    "                \"tconst\": \"string\",\n",
    "                \"nconst\": \"string\",\n",
    "                \"category\": \"string\",\n",
    "                \"characters\": \"string\",\n",
    "            }\n",
    "            )"
   ]
  },
  {
   "cell_type": "code",
   "execution_count": null,
   "metadata": {},
   "outputs": [],
   "source": [
    "# CLEANING SECTION\n",
    "if not exists(\"data/title_principals.feather\"):\n",
    "    cleaned_title_principals = title_principals.copy()\n",
    "\n",
    "    # We only want actors, actresses & directors:\n",
    "    cleaned_title_principals = cleaned_title_principals[\n",
    "        (cleaned_title_principals[\"category\"].str.lower().str.contains(\"actor\")) |\n",
    "        (cleaned_title_principals[\"category\"].str.lower().str.contains(\"actress\")) |\n",
    "        (cleaned_title_principals[\"category\"].str.lower().str.contains(\"director\"))\n",
    "        ]\n",
    "else:\n",
    "    pass"
   ]
  },
  {
   "cell_type": "code",
   "execution_count": null,
   "metadata": {},
   "outputs": [],
   "source": [
    "\n",
    "if not exists(\"data/title_principals.feather\"):\n",
    "    # Clean up indexing for .feather file\n",
    "    cleaned_title_principals.reset_index(inplace=True, drop=True)\n",
    "    # Replace '\\N' with proper NaN\n",
    "    cleaned_title_principals.replace('\\\\N', np.NaN, inplace=True)\n",
    "    # Save to Feather\n",
    "    cleaned_title_principals.to_feather(\"data/title_principals.feather\")\n",
    "else:\n",
    "    pass"
   ]
  },
  {
   "attachments": {},
   "cell_type": "markdown",
   "metadata": {},
   "source": [
    "### title.ratings.tsv.gz – Contains the IMDb rating and votes information for titles\n",
    "- tconst (string) - alphanumeric unique identifier of the title\n",
    "- averageRating – weighted average of all the individual user ratings\n",
    "- numVotes - number of votes the title has received"
   ]
  },
  {
   "cell_type": "code",
   "execution_count": null,
   "metadata": {},
   "outputs": [],
   "source": [
    "try:\n",
    "    title_ratings = pd.read_feather(\"data/title_ratings.feather\")\n",
    "except:\n",
    "    title_ratings = pd.read_csv(\n",
    "            \"data/title_ratings.tsv\",\n",
    "            sep=\"\\t\",\n",
    "            dtype={\n",
    "                \"tconst\": \"string\",\n",
    "                \"averageRating\": \"Float32\",\n",
    "                \"numVotes\": \"Int32\",\n",
    "            }\n",
    "            )"
   ]
  },
  {
   "cell_type": "code",
   "execution_count": null,
   "metadata": {},
   "outputs": [],
   "source": [
    "# CLEANING SECTION\n",
    "if not exists(\"data/title_ratings.feather\"):\n",
    "    cleaned_title_ratings = title_ratings.copy()\n",
    "else:\n",
    "    pass\n"
   ]
  },
  {
   "cell_type": "code",
   "execution_count": null,
   "metadata": {},
   "outputs": [],
   "source": [
    "\n",
    "if not exists(\"data/title_ratings.feather\"):\n",
    "    # Clean up indexing for .feather file\n",
    "    cleaned_title_ratings.reset_index(inplace=True, drop=True)\n",
    "    # Replace '\\N' with proper NaN\n",
    "    cleaned_title_ratings.replace('\\\\N', np.NaN, inplace=True)\n",
    "    # Save to Feather\n",
    "    cleaned_title_ratings.to_feather(\"data/title_ratings.feather\")\n",
    "else:\n",
    "    pass\n",
    "\n",
    "# title_ratings.info()"
   ]
  },
  {
   "attachments": {},
   "cell_type": "markdown",
   "metadata": {},
   "source": [
    "### name.basics.tsv.gz – Contains the following information for names:\n",
    "- nconst (string) - alphanumeric unique identifier of the name/person\n",
    "- primaryName (string)– name by which the person is most often credited\n",
    "- birthYear – in YYYY format\n",
    "- deathYear – in YYYY format if applicable, else '\\N'\n",
    "- primaryProfession (array of strings)– the top-3 professions of the person\n",
    "- knownForTitles (array of tconsts) – titles the person is known for"
   ]
  },
  {
   "cell_type": "code",
   "execution_count": null,
   "metadata": {},
   "outputs": [],
   "source": [
    "try:\n",
    "    name_basics = pd.read_feather(\"data/name_basics.feather\")\n",
    "except:\n",
    "    name_basics = pd.read_csv(\n",
    "            \"data/name_basics.tsv\",\n",
    "            sep=\"\\t\",\n",
    "            usecols=[\n",
    "                \"nconst\",\n",
    "                \"primaryName\",\n",
    "                \"primaryProfession\",\n",
    "                \"knownForTitles\",\n",
    "            ],\n",
    "            dtype={\n",
    "                \"nconst\": \"string\",\n",
    "                \"primaryName\": \"string\",\n",
    "                \"primaryProfession\": \"category\",\n",
    "                \"knownForTitles\": \"category\",\n",
    "            }\n",
    "            )"
   ]
  },
  {
   "attachments": {},
   "cell_type": "markdown",
   "metadata": {},
   "source": [
    "#### Cleaning name_basics"
   ]
  },
  {
   "cell_type": "code",
   "execution_count": null,
   "metadata": {},
   "outputs": [],
   "source": [
    "# CLEANING SECTION\n",
    "if not exists(\"data/name_basics.feather\"):\n",
    "    cleaned_name_basics = name_basics.copy()\n",
    "\n",
    "    # If knownForTitles is \\N then drop it, it's useless.\n",
    "    cleaned_name_basics = cleaned_name_basics[cleaned_name_basics[\"knownForTitles\"] != \"\\\\N\"]\n",
    "\n",
    "    # We only want actors, actresses & directors:\n",
    "    cleaned_name_basics = cleaned_name_basics[\n",
    "        (cleaned_name_basics[\"primaryProfession\"].str.lower().str.contains(\"actor\")) |\n",
    "        (cleaned_name_basics[\"primaryProfession\"].str.lower().str.contains(\"actress\")) |\n",
    "        (cleaned_name_basics[\"primaryProfession\"].str.lower().str.contains(\"director\"))\n",
    "        ]\n",
    "else:\n",
    "    pass"
   ]
  },
  {
   "attachments": {},
   "cell_type": "markdown",
   "metadata": {},
   "source": [
    "#### Saving as a feather file:"
   ]
  },
  {
   "cell_type": "code",
   "execution_count": null,
   "metadata": {},
   "outputs": [],
   "source": [
    "\n",
    "if not exists(\"data/name_basics.feather\"):\n",
    "    # Clean up indexing for .feather file\n",
    "    cleaned_name_basics.reset_index(inplace=True, drop=True)\n",
    "    # Replace '\\N' with proper NaN\n",
    "    cleaned_name_basics.replace('\\\\N', np.NaN, inplace=True)\n",
    "    # Save to Feather\n",
    "    cleaned_name_basics.to_feather(\"data/name_basics.feather\")\n",
    "else:\n",
    "    pass"
   ]
  },
  {
   "cell_type": "code",
   "execution_count": null,
   "metadata": {},
   "outputs": [],
   "source": [
    "# IGNORED DUE TO LACK OF USEFULLNESS\n",
    "\n",
    "# if not exists(\"data/title_akas.feather\"):\n",
    "#     title_akas = cleaned_title_akas\n",
    "#     del cleaned_title_akas\n",
    "# else:\n",
    "#     pass\n",
    "# title_akas.head(3)"
   ]
  },
  {
   "cell_type": "code",
   "execution_count": null,
   "metadata": {},
   "outputs": [],
   "source": [
    "if not exists(\"data/title_basics.feather\"):\n",
    "    title_basics = cleaned_title_basics\n",
    "    del cleaned_title_basics\n",
    "else:\n",
    "    pass\n",
    "title_basics.head(3)"
   ]
  },
  {
   "cell_type": "code",
   "execution_count": null,
   "metadata": {},
   "outputs": [],
   "source": [
    "if not exists(\"data/title_ratings.feather\"):\n",
    "    title_ratings = cleaned_title_ratings\n",
    "    del cleaned_title_ratings\n",
    "else:\n",
    "    pass\n",
    "title_ratings.head(3)"
   ]
  },
  {
   "cell_type": "code",
   "execution_count": null,
   "metadata": {},
   "outputs": [],
   "source": [
    "if not exists(\"data/name_basics.feather\"):\n",
    "    name_basics = cleaned_name_basics\n",
    "    del cleaned_name_basics\n",
    "else:\n",
    "    pass\n",
    "name_basics.head(3)"
   ]
  },
  {
   "cell_type": "code",
   "execution_count": null,
   "metadata": {},
   "outputs": [],
   "source": [
    "if not exists(\"data/title_principals.feather\"):\n",
    "    title_principals = cleaned_title_principals\n",
    "    del cleaned_title_principals\n",
    "else:\n",
    "    pass\n",
    "title_principals.head(3)"
   ]
  },
  {
   "attachments": {},
   "cell_type": "markdown",
   "metadata": {},
   "source": [
    "## Reducing the above into something more managable"
   ]
  },
  {
   "cell_type": "code",
   "execution_count": null,
   "metadata": {},
   "outputs": [],
   "source": [
    "imdb_final_df = title_basics.copy()"
   ]
  },
  {
   "attachments": {},
   "cell_type": "markdown",
   "metadata": {},
   "source": [
    "### Merge ratings to imdb_final_df\n",
    "Let's try to merge & clear what we don't need to free up mem:"
   ]
  },
  {
   "cell_type": "code",
   "execution_count": null,
   "metadata": {},
   "outputs": [],
   "source": [
    "title_ratings = pd.read_feather(\"data/title_ratings.feather\")\n",
    "imdb_final_df = pd.merge(\n",
    "    title_basics,\n",
    "    title_ratings,\n",
    "    on=\"tconst\",\n",
    "    how=\"left\"\n",
    ")\n",
    "# del title_ratings"
   ]
  },
  {
   "attachments": {},
   "cell_type": "markdown",
   "metadata": {},
   "source": [
    "### Merge title_principles & name_basics"
   ]
  },
  {
   "attachments": {},
   "cell_type": "markdown",
   "metadata": {},
   "source": [
    "Create DF that:\n",
    "- only shows directors, actors and actress\n",
    "- is a merge of title_principles & name_basics"
   ]
  },
  {
   "cell_type": "code",
   "execution_count": null,
   "metadata": {},
   "outputs": [],
   "source": [
    "actors_and_directors = title_principals.copy()"
   ]
  },
  {
   "cell_type": "code",
   "execution_count": null,
   "metadata": {},
   "outputs": [],
   "source": [
    "actors_and_directors = actors_and_directors[\n",
    "    (actors_and_directors[\"category\"] == \"director\") |\n",
    "    (actors_and_directors[\"category\"] == \"actor\") |\n",
    "    (actors_and_directors[\"category\"] == \"actress\")\n",
    "]"
   ]
  },
  {
   "cell_type": "code",
   "execution_count": null,
   "metadata": {},
   "outputs": [],
   "source": [
    "actors_and_directors = pd.merge(\n",
    "    actors_and_directors,\n",
    "    name_basics,\n",
    "    on=\"nconst\"\n",
    ")"
   ]
  },
  {
   "cell_type": "code",
   "execution_count": null,
   "metadata": {},
   "outputs": [],
   "source": [
    "# We don't need originalTitle\n",
    "imdb_final_df.drop(\"originalTitle\", axis=1, inplace=True)"
   ]
  },
  {
   "cell_type": "code",
   "execution_count": null,
   "metadata": {},
   "outputs": [],
   "source": [
    "imdb_final_df = imdb_final_df[\n",
    "    # (imdb_final_df[\"titleType\"] == \"short\") | # Probably not needed?\n",
    "    (imdb_final_df[\"titleType\"] == \"tvSeries\") |\n",
    "    (imdb_final_df[\"titleType\"] == \"movie\")\n",
    "]\n",
    "imdb_final_df.replace('\\\\N', np.NaN, inplace=True)\n",
    "imdb_final_df.reset_index(drop=True, inplace=True)"
   ]
  },
  {
   "cell_type": "code",
   "execution_count": null,
   "metadata": {},
   "outputs": [],
   "source": [
    "imdb_final_df.to_feather(\"data/imdb_final_df_v2.feather\")"
   ]
  },
  {
   "cell_type": "code",
   "execution_count": null,
   "metadata": {},
   "outputs": [],
   "source": [
    "actors_and_directors.drop(\"primaryProfession\", axis=1, inplace=True)   # Already have \"category\"\n",
    "actors_and_directors.drop(\"characters\", axis=1, inplace=True)          # Cool but not useful for lookup\n",
    "actors_and_directors.drop(\"nconst\", axis=1, inplace=True)              # Already served its purpose"
   ]
  },
  {
   "cell_type": "code",
   "execution_count": null,
   "metadata": {},
   "outputs": [],
   "source": [
    "actors_and_directors.to_feather(\"data/actors_and_directors_v2.feather\")"
   ]
  },
  {
   "attachments": {},
   "cell_type": "markdown",
   "metadata": {},
   "source": [
    "Now we have 2 useful DFS that come to 0.74Gb instead of multiple tsv's that come to 5.68Gb"
   ]
  },
  {
   "cell_type": "code",
   "execution_count": null,
   "metadata": {},
   "outputs": [],
   "source": [
    "del title_principals\n",
    "del name_basics\n",
    "del title_basics"
   ]
  },
  {
   "attachments": {},
   "cell_type": "markdown",
   "metadata": {},
   "source": [
    "# From now on we can run from this line instead of the start:\n",
    "Should save a few mins"
   ]
  },
  {
   "cell_type": "code",
   "execution_count": null,
   "metadata": {},
   "outputs": [],
   "source": [
    "# From now on we can run from this line instead of the start:\n",
    "import pandas as pd\n",
    "import numpy as np\n",
    "\n",
    "imdb_final_df = pd.read_feather(\"data/imdb_final_df_v2.feather\")\n",
    "actors_and_directors = pd.read_feather(\"data/actors_and_directors.feather\")"
   ]
  },
  {
   "cell_type": "code",
   "execution_count": null,
   "metadata": {},
   "outputs": [],
   "source": [
    "# Get unique genres\n",
    "unique_genres = set()\n",
    "for i in imdb_final_df[\"genres\"].cat.categories:\n",
    "    if ',' in i:\n",
    "        i = i.split(\",\")\n",
    "        unique_genres.update(i)\n",
    "    else:\n",
    "        unique_genres.add(i)\n",
    "# unique_genres"
   ]
  },
  {
   "cell_type": "code",
   "execution_count": null,
   "metadata": {},
   "outputs": [],
   "source": [
    "search1 = imdb_final_df[imdb_final_df[\"primaryTitle\"]==\"Friends\"]\n",
    "search2 = search1[search1[\"titleType\"] == \"tvSeries\"]\n",
    "search3 = search2[search2[\"genres\"].str.contains(\"Comedy\")]\n",
    "search3\n"
   ]
  },
  {
   "cell_type": "code",
   "execution_count": null,
   "metadata": {},
   "outputs": [],
   "source": [
    "search4 = actors_and_directors[actors_and_directors[\"primaryName\"] == \"Jennifer Aniston\"]\n",
    "search4"
   ]
  },
  {
   "cell_type": "code",
   "execution_count": null,
   "metadata": {},
   "outputs": [],
   "source": [
    "appears_in = []\n",
    "for i in search3[\"tconst\"]:\n",
    "    search5 = search4[search4[\"tconst\"] == str(i)]\n",
    "    if search5.shape[0] > 0:\n",
    "        appears_in.append(i)\n",
    "appears_in"
   ]
  },
  {
   "cell_type": "code",
   "execution_count": null,
   "metadata": {},
   "outputs": [],
   "source": [
    "appears_in"
   ]
  },
  {
   "cell_type": "code",
   "execution_count": null,
   "metadata": {},
   "outputs": [],
   "source": [
    "actors_and_directors.head(3)"
   ]
  },
  {
   "cell_type": "code",
   "execution_count": null,
   "metadata": {},
   "outputs": [],
   "source": [
    "directors = actors_and_directors[actors_and_directors[\"category\"] == \"director\"].copy()\n",
    "directors.drop(\"primaryProfession\", axis=1, inplace=True)   # Already have \"category\"\n",
    "directors.drop(\"characters\", axis=1, inplace=True)          # Cool but not useful for lookup\n",
    "directors.drop(\"nconst\", axis=1, inplace=True)              # Already served its purpose\n",
    "directors.drop(\"category\", axis=1, inplace=True)            # since we know they're all directors\n",
    "directors.head()"
   ]
  },
  {
   "cell_type": "code",
   "execution_count": null,
   "metadata": {},
   "outputs": [],
   "source": [
    "imdb_final_df[\"startYear\"] = imdb_final_df[\"startYear\"].astype(\"Int16\")\n",
    "imdb_final_df[\"runtimeMinutes\"] = imdb_final_df[\"runtimeMinutes\"].astype(\"Int16\")\n",
    "imdb_final_df[\"primaryTitle\"] = imdb_final_df[\"primaryTitle\"].str.lower()\n",
    "imdb_final_df.head(3)"
   ]
  },
  {
   "cell_type": "code",
   "execution_count": null,
   "metadata": {},
   "outputs": [],
   "source": [
    "directors_df = actors_and_directors[actors_and_directors[\"category\"] ==\"director\"].copy()\n",
    "actors_df = actors_and_directors[actors_and_directors[\"category\"] !=\"director\"].copy()"
   ]
  },
  {
   "cell_type": "code",
   "execution_count": null,
   "metadata": {},
   "outputs": [],
   "source": [
    "directors_df.reset_index(inplace=True, drop=True)\n",
    "actors_df.reset_index(inplace=True, drop=True)"
   ]
  },
  {
   "cell_type": "code",
   "execution_count": null,
   "metadata": {},
   "outputs": [],
   "source": [
    "directors_df.to_feather(\"data/directors.feather\")"
   ]
  },
  {
   "cell_type": "code",
   "execution_count": null,
   "metadata": {},
   "outputs": [],
   "source": [
    "actors_df.drop(\"knownForTitles\", axis=1, inplace=True)"
   ]
  },
  {
   "cell_type": "code",
   "execution_count": null,
   "metadata": {},
   "outputs": [],
   "source": [
    "actors_df.to_feather(\"data/actors.feather\")"
   ]
  },
  {
   "attachments": {},
   "cell_type": "markdown",
   "metadata": {},
   "source": [
    "# REMOVED CODE"
   ]
  },
  {
   "cell_type": "code",
   "execution_count": null,
   "metadata": {},
   "outputs": [],
   "source": [
    "# title_basics = pd.read_csv(\n",
    "#         \"data/title_basics.tsv\",\n",
    "#         sep=\"\\t\",\n",
    "#         usecols=[\n",
    "#         \"tconst\",\n",
    "#         \"titleType\",\n",
    "#         \"primaryTitle\",\n",
    "#         \"originalTitle\",\n",
    "#         \"startYear\",\n",
    "#         \"runtimeMinutes\",\n",
    "#         \"genres\",\n",
    "#         ],\n",
    "#         dtype={\n",
    "#                 \"tconst\": \"string\",\n",
    "#                 \"titleType\": \"string\",\n",
    "#                 \"primaryTitle\": \"string\",\n",
    "#                 \"originalTitle\": \"string\",\n",
    "#                 # \"startYear\": \"Int16\",\n",
    "#                 # \"runtimeMinutes\": \"Int16\",\n",
    "#                 \"genres\": \"category\",\n",
    "#         },\n",
    "#         # parse_dates=[\"startYear\"],\n",
    "#         # date_parser=lambda x: pd.to_datetime(x, format=\"%Y\"), # See https://docs.python.org/3/library/datetime.html#strftime-and-strptime-behavior\n",
    "#         )"
   ]
  },
  {
   "cell_type": "code",
   "execution_count": null,
   "metadata": {},
   "outputs": [],
   "source": [
    "# title_basics[title_basics[\"tconst\"]==\"tt12263402\"]"
   ]
  }
 ],
 "metadata": {
  "kernelspec": {
   "display_name": "Python 3",
   "language": "python",
   "name": "python3"
  },
  "language_info": {
   "codemirror_mode": {
    "name": "ipython",
    "version": 3
   },
   "file_extension": ".py",
   "mimetype": "text/x-python",
   "name": "python",
   "nbconvert_exporter": "python",
   "pygments_lexer": "ipython3",
   "version": "3.10.9"
  },
  "orig_nbformat": 4
 },
 "nbformat": 4,
 "nbformat_minor": 2
}
